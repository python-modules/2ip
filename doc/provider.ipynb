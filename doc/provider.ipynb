{
 "cells": [
  {
   "attachments": {},
   "cell_type": "markdown",
   "metadata": {},
   "source": [
    "# 2IP - Provider Lookup Examples\n",
    "\n",
    "The following examples can be used to show how to use the provider lookup."
   ]
  },
  {
   "attachments": {},
   "cell_type": "markdown",
   "metadata": {},
   "source": [
    "First, import the `twoip` module and set up the `Client` object. If needed the configuration may be defined at this step (eg. API key, number of threads). See the [Client documentation](/doc/client.md) for instructions."
   ]
  },
  {
   "cell_type": "code",
   "execution_count": null,
   "metadata": {},
   "outputs": [],
   "source": [
    "# Import the 2IP API client\n",
    "from twoip import Client\n",
    "\n",
    "# For typing, import the methods\n",
    "from twoip import methods\n",
    "\n",
    "# Create the API client (with authentication, if you do not have an API key don't provide it)\n",
    "client = twoip.Client(key=\"YOUR_API_KEY\")"
   ]
  },
  {
   "attachments": {},
   "cell_type": "markdown",
   "metadata": {},
   "source": [
    "Create the provider lookup object:"
   ]
  },
  {
   "cell_type": "code",
   "execution_count": 2,
   "metadata": {},
   "outputs": [],
   "source": [
    "# Create the provider lookup object\n",
    "provider: methods.Provider = client.provider()"
   ]
  },
  {
   "attachments": {},
   "cell_type": "markdown",
   "metadata": {},
   "source": [
    "The `lookup` method can then be used to perform the desired lookups. The method takes a single argument, `addresses`, which is the IP address or list of IP addresses to lookup. The addresses may be provided as a string, IPv4Address or IPv6Address object."
   ]
  },
  {
   "attachments": {},
   "cell_type": "markdown",
   "metadata": {},
   "source": [
    "## Single IP Lookup\n",
    "\n",
    "To look up a single IP address simply provide the IP as a string or IPv4Address/IPv6Address object:"
   ]
  },
  {
   "cell_type": "code",
   "execution_count": null,
   "metadata": {},
   "outputs": [],
   "source": [
    "# Lookup the provider for a single IP address\n",
    "result = provider.lookup(\"192.0.2.1\")"
   ]
  },
  {
   "attachments": {},
   "cell_type": "markdown",
   "metadata": {},
   "source": [
    "## Multi IP Lookup\n",
    "\n",
    "To look up multiple IP addresses, provide a list of IP addresses as a string or IPv4Address/IPv6Address object:"
   ]
  },
  {
   "cell_type": "code",
   "execution_count": null,
   "metadata": {},
   "outputs": [],
   "source": [
    "# Set the list of IP addresses to lookup the provider for\n",
    "addresses = [ \"192.0.2.1\", \"192.0.2.2\", \"192.0.2.3\", \"192.0.2.4\" ]\n",
    "\n",
    "# Run the lookup for the list of IP addresses\n",
    "result = provider.lookup(addresses)"
   ]
  }
 ],
 "metadata": {
  "kernelspec": {
   "display_name": "2ip",
   "language": "python",
   "name": "python3"
  },
  "language_info": {
   "codemirror_mode": {
    "name": "ipython",
    "version": 3
   },
   "file_extension": ".py",
   "mimetype": "text/x-python",
   "name": "python",
   "nbconvert_exporter": "python",
   "pygments_lexer": "ipython3",
   "version": "3.11.0"
  },
  "orig_nbformat": 4
 },
 "nbformat": 4,
 "nbformat_minor": 2
}
