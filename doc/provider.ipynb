{
 "cells": [
  {
   "attachments": {},
   "cell_type": "markdown",
   "metadata": {},
   "source": [
    "# 2IP API - Provider Lookup\n",
    "\n",
    "The Provider lookup is used to retrieve the ASN that announces an IP and the owner of the address block.\n",
    "\n",
    "Results are returned as a `ProviderResults` object.\n",
    "\n",
    "## ProviderResults Properties\n",
    "\n",
    "The `ProviderResults` object is used to store the results of one or more provider lookups. It has the following properties:\n",
    "\n",
    "| Name      | Type                   | Description                         |\n",
    "| --------- | ---------------------- | ----------------------------------- |\n",
    "| `results` | `list[ProviderResult]` | A list of `ProviderResult` objects. |\n",
    "\n",
    "### ProviderResult Properties\n",
    "\n",
    "The `ProviderResult` object stores the results for a single provider lookup. It has the following properties that are retrieved directly from the API:\n",
    "\n",
    "| Name        | Type  | Default | Description                                       |\n",
    "| ----------- | ----- | ------- | ------------------------------------------------- | ------------------------------------------------------------------------- |\n",
    "| `ip`        | `str` |         | The IP address looked up represented as a string. |\n",
    "| `route`     | `str  | None`   | `None`                                            | The base network address for the IP allocation containing the IP address. |\n",
    "| `mask`      | `int  | None`   | `None`                                            | The prefix length for the IP allocation containing the IP address.        |\n",
    "| `name_ripe` | `str  | None`   | `None`                                            | The English name of the provider the IP address is allocated to.          |\n",
    "| `name_rus`  | `str  | None`   | `None`                                            | The Russian name of the provider the IP address is allocated to.          |\n",
    "| `site`      | `str  | None`   | `None`                                            | The website for the provider the IP address is allocated to.              |\n",
    "\n",
    "The following properties are generated from the API response:\n",
    "\n",
    "| Name             | Type                      | Default      | Description |\n",
    "| ---------------- | ------------------------- | ------------ | ----------- | ------------------------------------------------------------------------------ | ----------------------------------------------------------------------- |\n",
    "| `ipaddress`      | `IPv4Address              | IPv6Address` |             | The IP address looked up represented as an IPv4 or IPv6 address object.        |\n",
    "| `asn`            | `int                      | None`        | `None`      | The BGP autonomous system that announces the prefix containing the IP address. |\n",
    "| `url`            | `urllib.parse.ParseResult | None`        | `None`      | The `site` parsed into a urllib object.                                        |\n",
    "| `prefix`         | `IPv4Network              | IPv6Network  | None`       | `None`                                                                         | The prefix containing the IP address as an IPv4 or IPv6 network object. |\n",
    "| `ip_range_start` | `IPv4Address              | IPv6Address  | None`       | `None`                                                                         | The start IP address of the IP allocation.                              |\n",
    "| `ip_range_end`   | `IPv4Address              | IPv6Address  | None`       | `None`                                                                         | The end IP address of the IP allocation.                                |"
   ]
  },
  {
   "attachments": {},
   "cell_type": "markdown",
   "metadata": {},
   "source": [
    "## Examples\n",
    "\n",
    "The following examples can be used to show how to use the provider lookup."
   ]
  },
  {
   "attachments": {},
   "cell_type": "markdown",
   "metadata": {},
   "source": [
    "First, import the `twoip` module and set up the `Client` object. If needed the configuration may be defined at this step (eg. API key, number of threads). See the [Client documentation](/doc/Client.ipynb) for instructions."
   ]
  },
  {
   "cell_type": "code",
   "execution_count": null,
   "metadata": {},
   "outputs": [],
   "source": [
    "# Import the 2IP API client\n",
    "import twoip\n",
    "\n",
    "# Create the API client (with authentication, if you do not have an API key don't provide it)\n",
    "client = twoip.Client(key=\"YOUR_API_KEY\")"
   ]
  },
  {
   "attachments": {},
   "cell_type": "markdown",
   "metadata": {},
   "source": [
    "Create the provider lookup object:"
   ]
  },
  {
   "cell_type": "code",
   "execution_count": 2,
   "metadata": {},
   "outputs": [],
   "source": [
    "# Create the provider lookup object\n",
    "provider = client.provider()"
   ]
  },
  {
   "attachments": {},
   "cell_type": "markdown",
   "metadata": {},
   "source": [
    "The `lookup` method can then be used to perform the desired lookups. The method takes a single argument, `addresses`, which is the IP address or list of IP addresses to lookup. The addresses may be provided as a string, IPv4Address or IPv6Address object."
   ]
  },
  {
   "cell_type": "code",
   "execution_count": null,
   "metadata": {},
   "outputs": [],
   "source": [
    "# Lookup the provider for a single IP address\n",
    "ip_provider = provider.lookup(\"192.0.2.1\")\n",
    "\n",
    "# Lookup the provider for a list of IP addresses\n",
    "addresses = [ \"192.0.2.1\", \"192.0.2.2\", \"192.0.2.3\", \"192.0.2.4\" ]\n",
    "ip_providers = provider.lookup(addresses)"
   ]
  }
 ],
 "metadata": {
  "kernelspec": {
   "display_name": "2ip",
   "language": "python",
   "name": "python3"
  },
  "language_info": {
   "codemirror_mode": {
    "name": "ipython",
    "version": 3
   },
   "file_extension": ".py",
   "mimetype": "text/x-python",
   "name": "python",
   "nbconvert_exporter": "python",
   "pygments_lexer": "ipython3",
   "version": "3.11.0"
  },
  "orig_nbformat": 4
 },
 "nbformat": 4,
 "nbformat_minor": 2
}
