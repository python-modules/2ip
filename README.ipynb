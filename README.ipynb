{
 "metadata": {
  "language_info": {
   "codemirror_mode": {
    "name": "ipython",
    "version": 3
   },
   "file_extension": ".py",
   "mimetype": "text/x-python",
   "name": "python",
   "nbconvert_exporter": "python",
   "pygments_lexer": "ipython3",
   "version": "3.9.2-final"
  },
  "orig_nbformat": 2,
  "kernelspec": {
   "name": "python3",
   "display_name": "Python 3",
   "language": "python"
  }
 },
 "nbformat": 4,
 "nbformat_minor": 2,
 "cells": [
  {
   "source": [
    "# TwoIP API Client\n",
    "\n",
    "Below are various examples for using the TwoIP API client.\n"
   ],
   "cell_type": "markdown",
   "metadata": {}
  },
  {
   "source": [
    "!{sys.executable} -m pip install 2ip\n"
   ],
   "cell_type": "code",
   "metadata": {},
   "execution_count": 1,
   "outputs": [
    {
     "output_type": "stream",
     "name": "stdout",
     "text": [
      "Requirement already satisfied: 2ip in /code/2ip (1.0.0)\n",
      "Requirement already satisfied: click in /usr/local/lib/python3.9/dist-packages (from 2ip) (7.1.2)\n",
      "Requirement already satisfied: clicktypes in /code/clicktypes (from 2ip) (0.0.4)\n",
      "Requirement already satisfied: httpx[http2] in /usr/local/lib/python3.9/dist-packages (from 2ip) (0.17.1)\n",
      "Requirement already satisfied: tabulate in /usr/local/lib/python3.9/dist-packages (from 2ip) (0.8.9)\n",
      "Requirement already satisfied: validators in /usr/local/lib/python3.9/dist-packages (from clicktypes->2ip) (0.18.2)\n",
      "Requirement already satisfied: rfc3986[idna2008]<2,>=1.3 in /usr/local/lib/python3.9/dist-packages (from httpx[http2]->2ip) (1.4.0)\n",
      "Requirement already satisfied: httpcore<0.13,>=0.12.1 in /usr/local/lib/python3.9/dist-packages (from httpx[http2]->2ip) (0.12.3)\n",
      "Requirement already satisfied: sniffio in /usr/local/lib/python3.9/dist-packages (from httpx[http2]->2ip) (1.2.0)\n",
      "Requirement already satisfied: certifi in /usr/local/lib/python3.9/dist-packages (from httpx[http2]->2ip) (2020.12.5)\n",
      "Requirement already satisfied: h2==3.* in /home/vscode/.local/lib/python3.9/site-packages (from httpx[http2]->2ip) (3.2.0)\n",
      "Requirement already satisfied: hpack<4,>=3.0 in /home/vscode/.local/lib/python3.9/site-packages (from h2==3.*->httpx[http2]->2ip) (3.0.0)\n",
      "Requirement already satisfied: hyperframe<6,>=5.2.0 in /home/vscode/.local/lib/python3.9/site-packages (from h2==3.*->httpx[http2]->2ip) (5.2.0)\n",
      "Requirement already satisfied: h11==0.* in /usr/local/lib/python3.9/dist-packages (from httpcore<0.13,>=0.12.1->httpx[http2]->2ip) (0.12.0)\n",
      "Requirement already satisfied: idna in /usr/local/lib/python3.9/dist-packages (from rfc3986[idna2008]<2,>=1.3->httpx[http2]->2ip) (2.10)\n",
      "Requirement already satisfied: six>=1.4.0 in /usr/local/lib/python3.9/dist-packages (from validators->clicktypes->2ip) (1.15.0)\n",
      "Requirement already satisfied: decorator>=3.4.0 in /usr/local/lib/python3.9/dist-packages (from validators->clicktypes->2ip) (4.4.2)\n"
     ]
    }
   ]
  },
  {
   "cell_type": "code",
   "execution_count": null,
   "metadata": {},
   "outputs": [],
   "source": []
  }
 ]
}